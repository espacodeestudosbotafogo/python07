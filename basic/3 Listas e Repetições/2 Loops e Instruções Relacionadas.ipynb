{
 "cells": [
  {
   "cell_type": "markdown",
   "metadata": {},
   "source": [
    "# Loops e Instruções Relacionadas"
   ]
  },
  {
   "cell_type": "markdown",
   "metadata": {},
   "source": [
    "Em ciência da computação um loop é um tipo de instrução utilizado especificamente para iterações. Em Pyhton existem dois tipos de loops: For e While."
   ]
  },
  {
   "cell_type": "markdown",
   "metadata": {},
   "source": [
    "## Loop \"for\""
   ]
  },
  {
   "cell_type": "markdown",
   "metadata": {},
   "source": [
    "Um laço for itera sobre os itens de uma dada lista:"
   ]
  },
  {
   "cell_type": "code",
   "execution_count": 8,
   "metadata": {
    "collapsed": false
   },
   "outputs": [
    {
     "name": "stdout",
     "output_type": "stream",
     "text": [
      "2\n",
      "3\n",
      "5\n",
      "7\n"
     ]
    }
   ],
   "source": [
    "primos = [2, 3, 5, 7]\n",
    "for primo in primos:\n",
    "    print(primo)"
   ]
  },
  {
   "cell_type": "markdown",
   "metadata": {},
   "source": [
    "Comumente utiliza-se a função range (ensinada na seção de Listas) em conjunto com for em Python para que se possa iterar sobre uma lista de números "
   ]
  },
  {
   "cell_type": "code",
   "execution_count": 5,
   "metadata": {
    "collapsed": false
   },
   "outputs": [
    {
     "name": "stdout",
     "output_type": "stream",
     "text": [
      "0\n",
      "1\n",
      "2\n",
      "3\n",
      "4\n"
     ]
    }
   ],
   "source": [
    "for x in range(5):\n",
    "    print(x)"
   ]
  },
  {
   "cell_type": "code",
   "execution_count": 6,
   "metadata": {
    "collapsed": false
   },
   "outputs": [
    {
     "name": "stdout",
     "output_type": "stream",
     "text": [
      "3\n",
      "4\n",
      "5\n"
     ]
    }
   ],
   "source": [
    "for x in xrange(3, 6): \n",
    "    print(x)"
   ]
  },
  {
   "cell_type": "code",
   "execution_count": 7,
   "metadata": {
    "collapsed": false
   },
   "outputs": [
    {
     "name": "stdout",
     "output_type": "stream",
     "text": [
      "3\n",
      "5\n",
      "7\n"
     ]
    }
   ],
   "source": [
    "for x in range(3, 8, 2): \n",
    "    print(x)"
   ]
  },
  {
   "cell_type": "markdown",
   "metadata": {},
   "source": [
    "---"
   ]
  },
  {
   "cell_type": "markdown",
   "metadata": {},
   "source": [
    "## Loop \"while\""
   ]
  },
  {
   "cell_type": "markdown",
   "metadata": {},
   "source": [
    "Loops while são executados enquanto uma condição Booleana é verdadeira. Ele testa a condição repetidamente e se ela for verdadeira ele executa seu código interior mais uma vez, se não ele encerra o laço."
   ]
  },
  {
   "cell_type": "code",
   "execution_count": 9,
   "metadata": {
    "collapsed": false
   },
   "outputs": [
    {
     "name": "stdout",
     "output_type": "stream",
     "text": [
      "0\n",
      "1\n",
      "2\n",
      "3\n",
      "4\n"
     ]
    }
   ],
   "source": [
    "contador = 0\n",
    "while contador < 5:\n",
    "    print(contador)\n",
    "    contador = contador + 1  \n"
   ]
  },
  {
   "cell_type": "markdown",
   "metadata": {},
   "source": [
    "Nós podemos utilizar um loop while para criar todo tipo de iteração desejada, incluindo todas àquelas feitas com um loop for."
   ]
  },
  {
   "cell_type": "markdown",
   "metadata": {},
   "source": [
    "---"
   ]
  },
  {
   "cell_type": "markdown",
   "metadata": {},
   "source": [
    "## Break e Continue"
   ]
  },
  {
   "cell_type": "markdown",
   "metadata": {},
   "source": [
    "O **break** é utilizado para sair de um loop (**for** ou **while**) enquanto o **continue** é utilizado para interromper uma determinada iteração do laço avançando para a próxima iteração sem encerrar completamente o loop. Observe os exemplos a seguir:"
   ]
  },
  {
   "cell_type": "code",
   "execution_count": 12,
   "metadata": {
    "collapsed": false
   },
   "outputs": [
    {
     "name": "stdout",
     "output_type": "stream",
     "text": [
      "0\n",
      "1\n",
      "2\n",
      "3\n",
      "4\n"
     ]
    }
   ],
   "source": [
    "contador = 0\n",
    "while True:\n",
    "    print contador\n",
    "    contador += 1\n",
    "    if contador >= 5:\n",
    "        break"
   ]
  },
  {
   "cell_type": "code",
   "execution_count": 16,
   "metadata": {
    "collapsed": false
   },
   "outputs": [
    {
     "name": "stdout",
     "output_type": "stream",
     "text": [
      "1\n",
      "3\n",
      "5\n",
      "7\n",
      "9\n"
     ]
    }
   ],
   "source": [
    "for x in range(10):\n",
    "    # Verifica se o número é par\n",
    "    if x % 2 == 0:\n",
    "        continue #salta para a próxim iteração\n",
    "    print x"
   ]
  },
  {
   "cell_type": "markdown",
   "metadata": {},
   "source": [
    "## Material Complementar\n",
    "\n",
    "### Vídeos Recomendados\n",
    "1. [For](https://www.youtube.com/watch?v=llguiJHU0kk&list=PL6gx4Cwl9DGAcbMi1sH6oAMk4JHw91mC_&index=8)\n",
    "2. [Range e While](https://www.youtube.com/watch?v=Neir-vgPyxw&index=9&list=PL6gx4Cwl9DGAcbMi1sH6oAMk4JHw91mC_)\n",
    "3. [Break](https://www.youtube.com/watch?v=k6rkvgQkW04&index=10&list=PL6gx4Cwl9DGAcbMi1sH6oAMk4JHw91mC_)\n",
    "4. [Continue](https://www.youtube.com/watch?v=68EhtQbgXRc&list=PL6gx4Cwl9DGAcbMi1sH6oAMk4JHw91mC_&index=11)\n",
    "\n",
    "### Referências\n",
    "1. [Loops - Learn Python](http://www.learnpython.org/en/Loops)"
   ]
  },
  {
   "cell_type": "markdown",
   "metadata": {},
   "source": [
    "### Prática\n",
    "Agora é sua vez!"
   ]
  },
  {
   "cell_type": "markdown",
   "metadata": {
    "collapsed": true
   },
   "source": [
    "#### 1 - Loops Infinitos"
   ]
  },
  {
   "cell_type": "markdown",
   "metadata": {},
   "source": [
    "Um loop infinito é um loop que itera indefinidamente. Você deve sempre se certificar de que seu programa não possui um loop infinito, pois se possuir seu programa nunca irá parar."
   ]
  },
  {
   "cell_type": "markdown",
   "metadata": {},
   "source": [
    "Avalie o código a seguir sem executá-lo. Ele contém um loop infinito? Como podemos ter certeza? Que linha do código confirma isso?"
   ]
  },
  {
   "cell_type": "code",
   "execution_count": null,
   "metadata": {
    "collapsed": true
   },
   "outputs": [],
   "source": [
    "n = 10\n",
    "answer = 1\n",
    "while n > 0:\n",
    "    answer = answer + n\n",
    "    n = n + 1\n",
    "print(answer)\n"
   ]
  },
  {
   "cell_type": "markdown",
   "metadata": {},
   "source": [
    "---"
   ]
  },
  {
   "cell_type": "markdown",
   "metadata": {},
   "source": [
    "2 - Itere sobre a lista **numeros** e imprima todos os números pares na mesma ordem em que aparecem na lista dada. Não imprima nenhum que venha depois do 237."
   ]
  },
  {
   "cell_type": "code",
   "execution_count": 15,
   "metadata": {
    "collapsed": true
   },
   "outputs": [],
   "source": [
    "numeros = [\n",
    "    951, 402, 984, 651, 360, 69, 408, 319, 601, 485, 980, 507, 725, 547, 544,\n",
    "    615, 83, 165, 141, 501, 263, 617, 865, 575, 219, 390, 984, 592, 236, 105, 942, 941,\n",
    "    386, 462, 47, 418, 907, 344, 236, 375, 823, 566, 597, 978, 328, 615, 953, 345,\n",
    "    399, 162, 758, 219, 918, 237, 412, 566, 826, 248, 866, 950, 626, 949, 687, 217,\n",
    "    815, 67, 104, 58, 512, 24, 892, 894, 767, 553, 81, 379, 843, 831, 445, 742, 717,\n",
    "    958, 609, 842, 451, 688, 753, 854, 685, 93, 857, 440, 380, 126, 721, 328, 753, 470,\n",
    "    743, 527\n",
    "]\n"
   ]
  },
  {
   "cell_type": "code",
   "execution_count": null,
   "metadata": {
    "collapsed": true
   },
   "outputs": [],
   "source": []
  }
 ],
 "metadata": {
  "kernelspec": {
   "display_name": "Python 2",
   "language": "python",
   "name": "python2"
  },
  "language_info": {
   "codemirror_mode": {
    "name": "ipython",
    "version": 2
   },
   "file_extension": ".py",
   "mimetype": "text/x-python",
   "name": "python",
   "nbconvert_exporter": "python",
   "pygments_lexer": "ipython2",
   "version": "2.7.10"
  }
 },
 "nbformat": 4,
 "nbformat_minor": 0
}
