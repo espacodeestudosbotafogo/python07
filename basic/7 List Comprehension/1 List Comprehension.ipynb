{
 "cells": [
  {
   "cell_type": "markdown",
   "metadata": {},
   "source": [
    "# Tutorial\n",
    "\n",
    "\n",
    "List Comprehension é um recurso bastante poderoso do Python, que nos permite criar listas de maneira bem concisa. A ideia é utilizar uma sintaxe como esta:"
   ]
  },
  {
   "cell_type": "code",
   "execution_count": null,
   "metadata": {
    "collapsed": true
   },
   "outputs": [],
   "source": [
    "[<expressão> for <item> in <lista> if  <condição>]"
   ]
  },
  {
   "cell_type": "markdown",
   "metadata": {},
   "source": [
    "A condição **if** é opcional. Por exemplo, se tivermos uma lista com os números [2, 6, 9, 10, 13] e quisermos uma outra lista com o quadrado destes números, poderíamos obtê-la diretamente:"
   ]
  },
  {
   "cell_type": "code",
   "execution_count": 2,
   "metadata": {
    "collapsed": false
   },
   "outputs": [
    {
     "name": "stdout",
     "output_type": "stream",
     "text": [
      "[4, 36, 81, 100, 169]\n"
     ]
    }
   ],
   "source": [
    "lista_numeros = [2, 6, 9, 10, 13]\n",
    "quadrados = [x**2 for x in lista_numeros]\n",
    "print(quadrados)"
   ]
  },
  {
   "cell_type": "markdown",
   "metadata": {},
   "source": [
    "Se quisermos apenas os quadrados dos números ímpares da lista, podemos usar a cláusula if:"
   ]
  },
  {
   "cell_type": "code",
   "execution_count": 3,
   "metadata": {
    "collapsed": false
   },
   "outputs": [
    {
     "name": "stdout",
     "output_type": "stream",
     "text": [
      "[81, 169]\n"
     ]
    }
   ],
   "source": [
    "quadrados_impares = [x**2 for x in lista_numeros if x%2 == 1]\n",
    "print(quadrados_impares)"
   ]
  },
  {
   "cell_type": "markdown",
   "metadata": {},
   "source": [
    "Perceba que isto deixa os nossos programas bem mais simples. O jeito antigo de resolver o último problema seria:"
   ]
  },
  {
   "cell_type": "code",
   "execution_count": 4,
   "metadata": {
    "collapsed": false
   },
   "outputs": [
    {
     "name": "stdout",
     "output_type": "stream",
     "text": [
      "[81, 169]\n"
     ]
    }
   ],
   "source": [
    "quadrados_impares = []\n",
    "for x in lista_numeros:\n",
    "    if x%2 == 1:\n",
    "        quadrados_impares.append(x**2)\n",
    "print(quadrados_impares)"
   ]
  },
  {
   "cell_type": "code",
   "execution_count": 6,
   "metadata": {
    "collapsed": false
   },
   "outputs": [
    {
     "name": "stdout",
     "output_type": "stream",
     "text": [
      "['ninja.txt', 'receita.txt', 'dica.txt']\n"
     ]
    }
   ],
   "source": [
    "lista = [\"ninja.txt\", \"abacaxi.jpg\", \"oba_oba.mp3\", \"receita.txt\", \"tetris.exe\", \"dica.txt\"]\n",
    "arquivos_texto = [nome for nome in lista if nome.endswith(\".txt\")]\n",
    "print(arquivos_texto)"
   ]
  },
  {
   "cell_type": "markdown",
   "metadata": {},
   "source": [
    "Repare que a expressão que colocamos na nova lista pode ser bastante complexa. Por exemplo, usando a última lista como base, se quiséssemos uma nova lista com o nome dos arquivos de texto, mas sem a extensão \".txt\", faríamos:"
   ]
  },
  {
   "cell_type": "code",
   "execution_count": 7,
   "metadata": {
    "collapsed": false
   },
   "outputs": [
    {
     "name": "stdout",
     "output_type": "stream",
     "text": [
      "['ninja', 'receita', 'dica']\n"
     ]
    }
   ],
   "source": [
    "arquivos_texto = [nome[0:nome.index(\".\")] for nome in lista if nome.endswith(\".txt\")]\n",
    "print(arquivos_texto)"
   ]
  },
  {
   "cell_type": "markdown",
   "metadata": {},
   "source": [
    "## Material Complementar\n",
    "\n",
    "### Referências\n",
    "\n",
    "[List Comprehension - Interactive Python](http://interactivepython.org/runestone/static/thinkcspy/Lists/ListComprehensions.html)"
   ]
  },
  {
   "cell_type": "code",
   "execution_count": null,
   "metadata": {
    "collapsed": true
   },
   "outputs": [],
   "source": []
  }
 ],
 "metadata": {
  "kernelspec": {
   "display_name": "Python 3",
   "language": "python",
   "name": "python3"
  },
  "language_info": {
   "codemirror_mode": {
    "name": "ipython",
    "version": 3
   },
   "file_extension": ".py",
   "mimetype": "text/x-python",
   "name": "python",
   "nbconvert_exporter": "python",
   "pygments_lexer": "ipython3",
   "version": "3.5.1"
  }
 },
 "nbformat": 4,
 "nbformat_minor": 0
}
