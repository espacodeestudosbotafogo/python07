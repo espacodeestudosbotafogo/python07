{
 "cells": [
  {
   "cell_type": "markdown",
   "metadata": {},
   "source": [
    "## If, elif, else, Como fazer o computador decidir?\n",
    "\n",
    "Para escrevermos programas que sejam úteis, frequentemente precisamos ser capazes de verificar condições e mudar o comportamento do programa de acordo com a condição vigente. A forma mais simples de realizar essa mudança de comportamento é por meio da instrução **if**.\n",
    "\n",
    "A instrução **if** serve para lidar com condições binárias, isto é, quando temos que escolher entre duas possibilidades. Normalmente essas situações se apresentam como \"Se uma determinada situação é válida então faça tal coisa, senão faça outra coisa (ou não faça nada)\". Por exemplo:"
   ]
  },
  {
   "cell_type": "code",
   "execution_count": 4,
   "metadata": {
    "collapsed": false
   },
   "outputs": [
    {
     "name": "stdout",
     "output_type": "stream",
     "text": [
      "15 é ímpar\n"
     ]
    }
   ],
   "source": [
    "numero = 15\n",
    "\n",
    "if numero % 2 == 0:\n",
    "    print(numero, \"é par\")\n",
    "else:\n",
    "    print(numero, \"é ímpar\")"
   ]
  },
  {
   "cell_type": "markdown",
   "metadata": {},
   "source": [
    "No exemplo acima, temos apenas duas possibilidades: ou o número é par ou é ímpar. Em ambos os casos, queremos que o programa escreva uma mensagem, porém a mensagem é diferente para cada caso (par ou ímpar).\n",
    "\n",
    "Em algumas situações, queremos atuar apenas em um dos casos. Por exemplo:"
   ]
  },
  {
   "cell_type": "code",
   "execution_count": 5,
   "metadata": {
    "collapsed": false
   },
   "outputs": [
    {
     "name": "stdout",
     "output_type": "stream",
     "text": [
      "Desculpe-me, jovem, mas não é permitida a entrada de menores na boate\n"
     ]
    }
   ],
   "source": [
    "idade = 17\n",
    "\n",
    "if idade < 18:\n",
    "    print(\"Desculpe-me, jovem, mas não é permitida a entrada de menores na boate\")"
   ]
  },
  {
   "cell_type": "markdown",
   "metadata": {},
   "source": [
    "Neste caso, a mensagem só é impressa para menores de idade. Caso a idade seja igual ou superior a 18 anos, nenhuma instrução é executada."
   ]
  },
  {
   "cell_type": "markdown",
   "metadata": {},
   "source": [
    "Quando temos mais do que duas opções para decidir, podemos utilizar a cláusula **elif** (uma contração de else e if):"
   ]
  },
  {
   "cell_type": "code",
   "execution_count": 3,
   "metadata": {
    "collapsed": false
   },
   "outputs": [
    {
     "name": "stdout",
     "output_type": "stream",
     "text": [
      "64\n",
      "Infelizmente o(a) senhor(a) ainda deve pagar passagem.\n"
     ]
    }
   ],
   "source": [
    "idade = int(input())\n",
    "if idade > 65:\n",
    "    print(\"Você tem direito a gratuidade no transporte público.\")\n",
    "elif idade == 64:\n",
    "    print(\"Infelizmente o(a) senhor(a) ainda deve pagar passagem.\")\n",
    "else:\n",
    "    print(\"Jovem, por favor, pague logo essa passagem.\")"
   ]
  },
  {
   "cell_type": "markdown",
   "metadata": {},
   "source": [
    "___\n",
    "A sintaxe para a instrução **if** é a seguinte:"
   ]
  },
  {
   "cell_type": "code",
   "execution_count": null,
   "metadata": {
    "collapsed": true
   },
   "outputs": [],
   "source": [
    "if EXPRESSÃO BOLEANA:\n",
    "    BLOCO_DE_INSTRUCOES_1        # executado se a expressão boleana resulta em True\n",
    "else:\n",
    "    BLOCO_DE_INSTRUCOES_2        # executado se a expressão boleana resulta em False"
   ]
  },
  {
   "cell_type": "markdown",
   "metadata": {},
   "source": [
    "Em python, utilizamos os **dois pontos** (**:**) e a **indentação** (espaçamento a partir da margem) para agrupar instruções. Esquecer de identar e, principalmente, esquecer de colocar os dois pontos antes de iniciar o bloco de instruções são erros de sintaxe bastante comuns.\n",
    "\n",
    "Qualquer valor pode ser utilizado como teste na instrução if: \n",
    "* 0, None, uma string vazia funcionam como o valor False. \n",
    "* uma lista, ou outras estruturas de dados que serão vistas mais adiantes, quando vazias também contam como o valor lógico False.\n",
    "* Demais valores resultam em True"
   ]
  },
  {
   "cell_type": "markdown",
   "metadata": {},
   "source": [
    "## Material Complementar\n",
    "\n",
    "### Vídeos Recomendados\n",
    "\n",
    "1. [If, else, elif](https://youtu.be/bk22K1m0890?list=PL6gx4Cwl9DGAcbMi1sH6oAMk4JHw91mC_&t=74) (sim, inicia a partir de 1:14 mesmo ;) )\n",
    "\n",
    "### Referências\n",
    "\n",
    "1. [Binary Selection — Interactive Python](http://interactivepython.org/runestone/static/thinkcspy/Selection/ConditionalExecutionBinarySelection.html)\n",
    "2. [If Statement — Python Course — Google Developers](https://developers.google.com/edu/python/strings#devsite_header_4)"
   ]
  }
 ],
 "metadata": {
  "kernelspec": {
   "display_name": "Python 3",
   "language": "python",
   "name": "python3"
  },
  "language_info": {
   "codemirror_mode": {
    "name": "ipython",
    "version": 3
   },
   "file_extension": ".py",
   "mimetype": "text/x-python",
   "name": "python",
   "nbconvert_exporter": "python",
   "pygments_lexer": "ipython3",
   "version": "3.5.1"
  }
 },
 "nbformat": 4,
 "nbformat_minor": 0
}
