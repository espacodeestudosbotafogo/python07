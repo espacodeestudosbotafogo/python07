{
 "cells": [
  {
   "cell_type": "markdown",
   "metadata": {},
   "source": [
    "## Variáveis\n",
    "\n",
    "Até o momento, temos verificado o comportamento de valores e aprendido um pouco sobre os tipo de dados em Python. No entanto, todos os valores que utilizamos nas operações foram \"perdidos\" após obtermos um resultado. Observe:"
   ]
  },
  {
   "cell_type": "code",
   "execution_count": 2,
   "metadata": {
    "collapsed": false
   },
   "outputs": [
    {
     "data": {
      "text/plain": [
       "10.2"
      ]
     },
     "execution_count": 2,
     "metadata": {},
     "output_type": "execute_result"
    }
   ],
   "source": [
    "3.2 + 7"
   ]
  },
  {
   "cell_type": "markdown",
   "metadata": {},
   "source": [
    "Na operação aritmética acima, utilizamos dois valores (3.2 e 7) e visualizamos um terceiro valor (10.2), porém nossa interação com esses valores acaba aí. Não podemos \"reutilizá-los\". Essa capacidade de reutilização de dados será muito útil no desenvolvimento de programas e, no caso da linguagem Python, podemos fazer isso por meio de variáveis."
   ]
  },
  {
   "cell_type": "markdown",
   "metadata": {},
   "source": [
    "---\n",
    "### Modelo de Memória e Variáveis\n",
    "\n",
    "Antes de explicarmos o que é uma variável, vamos entender um pouco como é que o computador lida com esses valores quando escrevemos expressões como 3.2 + 7.\n",
    "\n",
    "Cada um dos valores apresentados precisam existir na memória do computador para que possam ser manipulados. Então, ao digitar 3.2 + 7, é necessário que o computador aloque (reserve) um espaço de memória para representar o número 3.2 e um outro espaço de memória para o número 7.\n",
    "\n",
    "Ao interpretar a operação de soma, identificada pelo operador **+**, o computador aloca um terceiro espaço de memória onde ele escreve o resultado da operação (10.2). Cada espaço de memória possui uma numeração, um endereço que o identifica.\n",
    "\n",
    "Uma variável é uma forma da gente guardar um endereço de memória para poder acessar novamente o valor que estiver escrito neste endereço. Observe:"
   ]
  },
  {
   "cell_type": "code",
   "execution_count": 7,
   "metadata": {
    "collapsed": false
   },
   "outputs": [],
   "source": [
    "num = 3.2"
   ]
  },
  {
   "cell_type": "markdown",
   "metadata": {},
   "source": [
    "A instrução acima é uma **instrução de atribuição**. Dizemos que **o valor 3.2 foi atribuído à variável num**. O resultado dessa instrução é o seguinte: o valor 3.2 é escrito em algum pedaço da memória do computador, que tem um determinado endereço; a variável **num** passa, então, a ser uma referência para o endereço de memória onde 3.2 está escrito. Assim, se precisarmos do valor 3.2 novamente, podemos usar a variável **num**. Veja:"
   ]
  },
  {
   "cell_type": "code",
   "execution_count": 8,
   "metadata": {
    "collapsed": false
   },
   "outputs": [
    {
     "data": {
      "text/plain": [
       "3.2"
      ]
     },
     "execution_count": 8,
     "metadata": {},
     "output_type": "execute_result"
    }
   ],
   "source": [
    "num"
   ]
  },
  {
   "cell_type": "markdown",
   "metadata": {},
   "source": [
    "Quando utilizamos num em uma expressão ou como um valor, o Python verifica qual o endereço de memória que num contém e, então, resgata o valor que estiver escrito naquele endereço. Assim, podemos operar:"
   ]
  },
  {
   "cell_type": "code",
   "execution_count": 9,
   "metadata": {
    "collapsed": false
   },
   "outputs": [
    {
     "data": {
      "text/plain": [
       "10.2"
      ]
     },
     "execution_count": 9,
     "metadata": {},
     "output_type": "execute_result"
    }
   ],
   "source": [
    "num + 7"
   ]
  },
  {
   "cell_type": "markdown",
   "metadata": {},
   "source": [
    "E continuamos com o valor 3.2 no endereço referenciado por num."
   ]
  },
  {
   "cell_type": "code",
   "execution_count": 10,
   "metadata": {
    "collapsed": false
   },
   "outputs": [
    {
     "data": {
      "text/plain": [
       "3.2"
      ]
     },
     "execution_count": 10,
     "metadata": {},
     "output_type": "execute_result"
    }
   ],
   "source": [
    "num"
   ]
  },
  {
   "cell_type": "code",
   "execution_count": null,
   "metadata": {
    "collapsed": true
   },
   "outputs": [],
   "source": [
    "Podemos atribuir um novo valor a uma variável já existente:"
   ]
  },
  {
   "cell_type": "code",
   "execution_count": 14,
   "metadata": {
    "collapsed": true
   },
   "outputs": [],
   "source": [
    "num = 42"
   ]
  },
  {
   "cell_type": "markdown",
   "metadata": {},
   "source": [
    "Nesse caso, o número 42 é escrito em um outro endereço de memória e a variável num passa a ser uma referência para esse novo endereço de memória. O endereço de memória que num referenciava, onde havia o valor 3.2, deixa de ser parte do seu programa e é liberado automaticamnte de volta para outros usos pelo seu computador (a menos que haja alguma outra variável no seu programa que seja referência para aquele endereço). Por exemplo:"
   ]
  },
  {
   "cell_type": "code",
   "execution_count": 15,
   "metadata": {
    "collapsed": true
   },
   "outputs": [],
   "source": [
    "copia = num\n",
    "# copia e num são referencias para o mesmo endereço de memória, onde há o valor 42"
   ]
  },
  {
   "cell_type": "code",
   "execution_count": 19,
   "metadata": {
    "collapsed": true
   },
   "outputs": [],
   "source": [
    "num = \"biscoito\"\n",
    "# num torna-se uma referência para o endereço onde a string \"biscoito\" foi escrita. O endereço onde há 42 \n",
    "# ainda faz parte do nosso programa, pois a variável \"copia\" o contém."
   ]
  },
  {
   "cell_type": "code",
   "execution_count": 20,
   "metadata": {
    "collapsed": false
   },
   "outputs": [
    {
     "data": {
      "text/plain": [
       "42"
      ]
     },
     "execution_count": 20,
     "metadata": {},
     "output_type": "execute_result"
    }
   ],
   "source": [
    "copia"
   ]
  },
  {
   "cell_type": "code",
   "execution_count": 21,
   "metadata": {
    "collapsed": false
   },
   "outputs": [
    {
     "data": {
      "text/plain": [
       "'biscoito'"
      ]
     },
     "execution_count": 21,
     "metadata": {},
     "output_type": "execute_result"
    }
   ],
   "source": [
    "num"
   ]
  },
  {
   "cell_type": "markdown",
   "metadata": {},
   "source": [
    "O site [Python Tutor](http://pythontutor.com) é uma ótima referência para se observar um modelo visual que representa esse processo de alocação de memória e criação de variáveis. "
   ]
  },
  {
   "cell_type": "markdown",
   "metadata": {},
   "source": [
    "#### Nomenclatura de variáveis\n",
    "\n",
    "Podemos utilizar praticamente qualquer nome para variáveis. Há porém algumas pequenas restrições:\n",
    "\n",
    "1. Variáveis não podem ter nomes iguais às palavras reservadas da linguagem Python (veremos várias delas nas seções seguintes, como if, else, while, for etc)\n",
    "\n",
    "2. Variáveis não podem começar por números, porém podem ter "
   ]
  }
 ],
 "metadata": {
  "kernelspec": {
   "display_name": "Python 3",
   "language": "python",
   "name": "python3"
  },
  "language_info": {
   "codemirror_mode": {
    "name": "ipython",
    "version": 3
   },
   "file_extension": ".py",
   "mimetype": "text/x-python",
   "name": "python",
   "nbconvert_exporter": "python",
   "pygments_lexer": "ipython3",
   "version": "3.5.1"
  }
 },
 "nbformat": 4,
 "nbformat_minor": 0
}
