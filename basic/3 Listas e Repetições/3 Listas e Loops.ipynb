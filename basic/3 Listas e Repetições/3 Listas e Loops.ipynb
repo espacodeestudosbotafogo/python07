{
 "cells": [
  {
   "cell_type": "markdown",
   "metadata": {},
   "source": [
    "# Listas e Iterações"
   ]
  },
  {
   "cell_type": "markdown",
   "metadata": {},
   "source": [
    "## For e In"
   ]
  },
  {
   "cell_type": "markdown",
   "metadata": {},
   "source": [
    "Em Python as intruções **for** e **in** são extremamente utilizadas com listas. O **for** é uma simples de percorrer uma lista elemento a elemento. A estrutura do laço **for** contém o **in** : ***for** var **in** list*."
   ]
  },
  {
   "cell_type": "code",
   "execution_count": 2,
   "metadata": {
    "collapsed": false
   },
   "outputs": [
    {
     "name": "stdout",
     "output_type": "stream",
     "text": [
      "30\n"
     ]
    }
   ],
   "source": [
    "quadrados = [1, 4, 9, 16]\n",
    "soma = 0\n",
    "for numero in quadrados:\n",
    "    soma = soma + numero\n",
    "print(soma)"
   ]
  },
  {
   "cell_type": "markdown",
   "metadata": {},
   "source": [
    "O **in** também é uma boa maneira de verificar se uma liista contém um determinado elemento:"
   ]
  },
  {
   "cell_type": "code",
   "execution_count": 3,
   "metadata": {
    "collapsed": false
   },
   "outputs": [
    {
     "name": "stdout",
     "output_type": "stream",
     "text": [
      "Azul é a cor mais quente.\n"
     ]
    }
   ],
   "source": [
    "cores = ['azul', 'vermelho', 'branco']\n",
    "\n",
    "if 'azul' in cores:\n",
    "    print(\"Azul é a cor mais quente.\")"
   ]
  },
  {
   "cell_type": "markdown",
   "metadata": {},
   "source": [
    "Também podemos utilizar os loops para acessar elementos específicos de uma lista, como no exemplo a seguir:"
   ]
  },
  {
   "cell_type": "code",
   "execution_count": 5,
   "metadata": {
    "collapsed": false
   },
   "outputs": [
    {
     "name": "stdout",
     "output_type": "stream",
     "text": [
      "951\n",
      "980\n",
      "263\n",
      "942\n",
      "823\n",
      "758\n",
      "626\n",
      "892\n",
      "717\n",
      "857\n"
     ]
    }
   ],
   "source": [
    "numeros = [\n",
    "    951, 402, 984, 651, 360, 69, 408, 319, 601, 485, 980, 507, 725, 547, 544,\n",
    "    615, 83, 165, 141, 501, 263, 617, 865, 575, 219, 390, 984, 592, 236, 105, 942, 941,\n",
    "    386, 462, 47, 418, 907, 344, 236, 375, 823, 566, 597, 978, 328, 615, 953, 345,\n",
    "    399, 162, 758, 219, 918, 237, 412, 566, 826, 248, 866, 950, 626, 949, 687, 217,\n",
    "    815, 67, 104, 58, 512, 24, 892, 894, 767, 553, 81, 379, 843, 831, 445, 742, 717,\n",
    "    958, 609, 842, 451, 688, 753, 854, 685, 93, 857, 440, 380, 126, 721, 328, 753, 470,\n",
    "    743, 527\n",
    "]\n",
    "\n",
    "i = 0\n",
    "while i < len(numeros):\n",
    "    print numeros[i]\n",
    "    i = i + 10"
   ]
  },
  {
   "cell_type": "markdown",
   "metadata": {},
   "source": [
    "Neste exemplo elementos da lista **numeros** são acessados de dez em dez."
   ]
  },
  {
   "cell_type": "markdown",
   "metadata": {},
   "source": [
    "## Material Complementar"
   ]
  },
  {
   "cell_type": "markdown",
   "metadata": {},
   "source": [
    "Você pode assistir o vídeo sobre [Listas, Ordenação e Tuplas](https://www.youtube.com/watch?v=EPYupizJYQI) de um workshop dado pelo Google para desenvolvedores iniciantes. Este vídeo contém conhecimentos interessantes além daqueles discutidos aqui.\n",
    "\n",
    "### Referência Teórica\n",
    "[Python Lists - Google Developers](https://developers.google.com/edu/python/lists#for-and-in)"
   ]
  },
  {
   "cell_type": "markdown",
   "metadata": {},
   "source": [
    "## Prática"
   ]
  },
  {
   "cell_type": "markdown",
   "metadata": {},
   "source": [
    "Agora é a sua vez!"
   ]
  },
  {
   "cell_type": "markdown",
   "metadata": {},
   "source": [
    "### Verifcando os finais"
   ]
  },
  {
   "cell_type": "markdown",
   "metadata": {},
   "source": [
    "Você deve construir um método que recebe uma lista de palavras e retorna quantas palavras possuem tamanho maior do que 3 e possuem a primeira e última letra iguais. "
   ]
  },
  {
   "cell_type": "code",
   "execution_count": null,
   "metadata": {
    "collapsed": true
   },
   "outputs": [],
   "source": [
    "def verificaLista(palavras):\n",
    "    # Escreva seu código aqui\n"
   ]
  },
  {
   "cell_type": "markdown",
   "metadata": {},
   "source": [
    "Teste! Após implementar sua função execute o teste a seguir:"
   ]
  },
  {
   "cell_type": "code",
   "execution_count": null,
   "metadata": {
    "collapsed": true
   },
   "outputs": [],
   "source": [
    "def teste():\n",
    "    if verificaLista(['Um', 'Dois', 'Três', 'Quatro', 'Seis', 'Oito']) == 2:\n",
    "        print(\"Teste Acertou!\")\n",
    "    else: \n",
    "        print(\"Teste Falhou.\")\n",
    "    if verificaLista(['ANA', 'OMO', 'ACE', 'ACRE', 'OLHO']) == 3:\n",
    "        print(\"Teste Acertou!\")\n",
    "    else: \n",
    "        print(\"Teste Falhou.\")\n",
    "    "
   ]
  }
 ],
 "metadata": {
  "kernelspec": {
   "display_name": "Python 2",
   "language": "python",
   "name": "python2"
  },
  "language_info": {
   "codemirror_mode": {
    "name": "ipython",
    "version": 2
   },
   "file_extension": ".py",
   "mimetype": "text/x-python",
   "name": "python",
   "nbconvert_exporter": "python",
   "pygments_lexer": "ipython2",
   "version": "2.7.10"
  }
 },
 "nbformat": 4,
 "nbformat_minor": 0
}
