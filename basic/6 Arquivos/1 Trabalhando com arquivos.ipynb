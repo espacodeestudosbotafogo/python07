{
 "cells": [
  {
   "cell_type": "markdown",
   "metadata": {},
   "source": [
    "### Tutorial\n",
    "Nosso objetivo agora é aprender a escrever um arquivo de texto e a ler um arquivo de texto do computador.\n",
    "\n",
    "1. Assista a este [vídeo](https://www.youtube.com/watch?v=YV6qm6erphk&list=PL6gx4Cwl9DGAcbMi1sH6oAMk4JHw91mC_&index=23) para uma breve introdução ao assunto."
   ]
  },
  {
   "cell_type": "markdown",
   "metadata": {
    "collapsed": true
   },
   "source": [
    "O vídeo apresenta uma das formas de se operar com arquivos em python."
   ]
  },
  {
   "cell_type": "code",
   "execution_count": 5,
   "metadata": {
    "collapsed": true
   },
   "outputs": [],
   "source": [
    "arquivo = open(\"nome_do_arquivo\", \"w\") # \"w\" para escrever, \"r\" para ler\n",
    "# Operações com o arquivo aqui\n",
    "arquivo.close()"
   ]
  },
  {
   "cell_type": "markdown",
   "metadata": {},
   "source": [
    "Há um detalhe, no entanto, que devemos complementar aqui. É possível que ocorra um erro no momento da abertura do arquivo, seja porque está tentando ler um arquivo que não existe, ou o arquivo é protegido ou qualquer outra razão diversa. Nesse caso, ao tentar operar com a variável arquivo, o programa iria parar e você receberia uma mensagem de erro no terminal. Somente aprenderemos a tratar esses erros mais tarde, quando falarmos de exceções.\n",
    "\n",
    "Contudo, há outra forma de trabalhar com arquivos que é bastante segura contra esse tipo de erro. Observe:"
   ]
  },
  {
   "cell_type": "code",
   "execution_count": 3,
   "metadata": {
    "collapsed": false
   },
   "outputs": [
    {
     "name": "stdout",
     "output_type": "stream",
     "text": [
      "Continuação do programa\n"
     ]
    }
   ],
   "source": [
    "with open(\"nome_do_arquivo\", \"r\") as arquivo:\n",
    "    #operações com o arquivo aqui\n",
    "    pass\n",
    "    \n",
    "print(\"Continuação do programa\")"
   ]
  },
  {
   "cell_type": "markdown",
   "metadata": {},
   "source": [
    "Usando a cláusula **with**, todo o código de operação com o arquivo deve ser colocado de forma indentada, pois pertence ao bloco do **with**, assim como fazemos com **if**, **while** etc. Nesse caso, temos algumas vantagens:\n",
    "\n",
    "1. Se houver um erro de abertura do arquivo, o programa não irá travar. Ele apenas não executará os comandos referentes ao **with**.\n",
    "2. Não é necessário fechar o arquivo (arquivo.close()), pois ao finalizar a última instrução do bloco **with**, o arquivo é fechado automaticamente.\n",
    "\n",
    "Obs: repare que o bloco **with** define um novo escopo, ao qual pertence a variável \"arquivo\"; portanto, variáveis criadas dentro deste bloco não podem ser referenciadas após ele. Se você deseja manter algum valor do arquivo no seu pro"
   ]
  },
  {
   "cell_type": "code",
   "execution_count": null,
   "metadata": {
    "collapsed": true
   },
   "outputs": [],
   "source": []
  }
 ],
 "metadata": {
  "kernelspec": {
   "display_name": "Python 3",
   "language": "python",
   "name": "python3"
  },
  "language_info": {
   "codemirror_mode": {
    "name": "ipython",
    "version": 3
   },
   "file_extension": ".py",
   "mimetype": "text/x-python",
   "name": "python",
   "nbconvert_exporter": "python",
   "pygments_lexer": "ipython3",
   "version": "3.5.1"
  }
 },
 "nbformat": 4,
 "nbformat_minor": 0
}
