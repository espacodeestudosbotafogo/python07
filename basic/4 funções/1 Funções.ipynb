{
 "cells": [
  {
   "cell_type": "markdown",
   "metadata": {},
   "source": [
    "## Funções\n",
    "\n",
    "Em Python, uma função é uma sequência de instruções que são agrupadas em um bloco e podem ser reutilizadas. O objetivo principal de escrever funções é nos ajudar a organizar os programas em fragmentos que se adequem à forma como pensamos na solução de um problema.\n",
    "\n",
    "A sintaxe para a definição de uma função é:"
   ]
  },
  {
   "cell_type": "code",
   "execution_count": null,
   "metadata": {
    "collapsed": true
   },
   "outputs": [],
   "source": [
    "def nome_da_funcao(parametros):\n",
    "    instruções"
   ]
  },
  {
   "cell_type": "markdown",
   "metadata": {},
   "source": [
    "**def** é a palavra reservada do Python que indica que estamos declarando uma nova função. A seguir, escrevemos o nome desta nova função. Após o nome da função, colocamos os seus parâmetros entre parênteses. Finalmente, fechamos essa linha com dois pontos, assim como fizemos com as instruções condicionais e de repetição. Esta primeira linha (da palavra def até os dois pontos) da declaração da função é chamada de *cabeçalho ou assinatura* da função.\n",
    "\n",
    "Você pode colocar praticamente qualquer nome em uma função. As regras de nomenclatura são as mesmas das variáveis. \n",
    "\n",
    "Os parâmetros, também chamados de argumentos, especificam que informações são necessárias que a função funcione da forma desejada. Os parâmetos devem ser providos à função no momento de sua utilização. Há funções que não precisam de nenhum parâmetro e há funções que podem utilizar vários parâmetros. Mesmo quando uma função não utiliza nenhum parâmetro, deve-se abrir e fechar os parênteses. \n",
    "\n",
    "\n",
    "Dentro do corpo da função pode haver um número qualquer de instruções, porém todas devem estar identadas em relação à palavra **def**.\n"
   ]
  },
  {
   "cell_type": "code",
   "execution_count": 2,
   "metadata": {
    "collapsed": true
   },
   "outputs": [],
   "source": [
    "def funcao_sem_parametro():\n",
    "    print(\"Função que não recebe nenhum parâmetro\")"
   ]
  },
  {
   "cell_type": "markdown",
   "metadata": {},
   "source": [
    "Caso haja vários parâmetros, cada um deve ser separado por vírgula."
   ]
  },
  {
   "cell_type": "code",
   "execution_count": 3,
   "metadata": {
    "collapsed": true
   },
   "outputs": [],
   "source": [
    "def soma_quadrados(x, y):\n",
    "    qx = x**2\n",
    "    qy = y**2\n",
    "    resultado = qx + qy\n",
    "    return resultado"
   ]
  },
  {
   "cell_type": "markdown",
   "metadata": {},
   "source": [
    "Além de executarem instruções, funções podem retornar valores (normalmente algum resultado das instruções que ela executou). Por exemplo, a função **soma_quadrados(x, y)**, que definimos logo acima, retorna a soma dos quadrados de seus argumentos, que supõe-se que sejam números.\n"
   ]
  },
  {
   "cell_type": "code",
   "execution_count": 4,
   "metadata": {
    "collapsed": false
   },
   "outputs": [
    {
     "name": "stdout",
     "output_type": "stream",
     "text": [
      "25\n"
     ]
    }
   ],
   "source": [
    "r = soma_quadrados(3, 4)\n",
    "print(r)"
   ]
  },
  {
   "cell_type": "markdown",
   "metadata": {},
   "source": [
    "Estivemos usando algumas funções desde o início do curso como se fossem operações básicas da linguagem Python. Por exemplo, para imprimir resultados, temos utilizado a função **print( )**, que recebe como parâmetros os valores que queremos imprimir.\n",
    "\n",
    "Para solicitar uma entrada do usuário, temos utilizado a função **input( )**, que retorna o que o usuário digitar na forma de uma string."
   ]
  },
  {
   "cell_type": "markdown",
   "metadata": {},
   "source": [
    "---\n",
    "#### Docstrings\n",
    "\n",
    "Logo após o cabeçalho da função, é comum que se escreva uma string, uma breve explicação sobre a função. Esta string é denominada docstring e recomenda-se que ela seja escrita com aspas triplas."
   ]
  },
  {
   "cell_type": "code",
   "execution_count": null,
   "metadata": {
    "collapsed": true
   },
   "outputs": [],
   "source": [
    "def subtrair_quadrados(x, y):\n",
    "    \"\"\" Esta função retorna a subtração entre o quadrado de dois números dados\"\"\"\n",
    "    \n",
    "    qx = x**2\n",
    "    qy = y**2\n",
    "    resultado = qx - qy\n",
    "    return resultado"
   ]
  },
  {
   "cell_type": "markdown",
   "metadata": {},
   "source": [
    "Docstrings recebem um tratamento especial por diversas ferramentas de programação, servindo como uma fonte bastante útil de documentação do código. Assim, é possível que outras pessoas que venham a utilizar o seu código entendam rapidamente qual o objetivo de cada função. Repare que o próprio nome da função já pode ajudar outros programadores a saber o que esperar desta função."
   ]
  },
  {
   "cell_type": "markdown",
   "metadata": {
    "collapsed": true
   },
   "source": [
    "---\n",
    "## Material Complementar\n",
    "\n",
    "### Vídeos\n",
    "\n",
    "1. Para uma **introdução** ao conceito de **funções**, assista a este [vídeo](https://www.youtube.com/watch?v=j2xhtI0WTew&index=12&list=PL6gx4Cwl9DGAcbMi1sH6oAMk4JHw91mC_)\n",
    "2. Sobre valores de **retorno de uma função**, assista a este [vídeo](https://www.youtube.com/watch?v=xRIzPZlei9I&index=13&list=PL6gx4Cwl9DGAcbMi1sH6oAMk4JHw91mC_)\n",
    "3. Valores **padrões para argumentos**, assista a este [vídeo](https://www.youtube.com/watch?v=mwr1AtpLMpI&list=PL6gx4Cwl9DGAcbMi1sH6oAMk4JHw91mC_&index=14)\n",
    "4. [Escopo de Variáveis](https://www.youtube.com/watch?v=f3TVuuhe-fY&index=15&list=PL6gx4Cwl9DGAcbMi1sH6oAMk4JHw91mC_)\n",
    "\n",
    "### Referências\n",
    "\n",
    "1. [Functions — Interactive Python](http://interactivepython.org/runestone/static/thinkcspy/Functions/functions.html)\n",
    "2. [User defined functions — Python Course — Google Developers](https://developers.google.com/edu/python/introduction#user-defined-functions)\n"
   ]
  }
 ],
 "metadata": {
  "kernelspec": {
   "display_name": "Python 3",
   "language": "python",
   "name": "python3"
  },
  "language_info": {
   "codemirror_mode": {
    "name": "ipython",
    "version": 3
   },
   "file_extension": ".py",
   "mimetype": "text/x-python",
   "name": "python",
   "nbconvert_exporter": "python",
   "pygments_lexer": "ipython3",
   "version": "3.5.1"
  }
 },
 "nbformat": 4,
 "nbformat_minor": 0
}
